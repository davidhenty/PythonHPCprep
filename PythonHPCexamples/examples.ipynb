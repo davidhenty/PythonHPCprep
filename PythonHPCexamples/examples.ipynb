{
 "cells": [
  {
   "cell_type": "markdown",
   "id": "770b0500",
   "metadata": {},
   "source": [
    "Before running any of these exercises, make sure you have followed the instructions at https://github.com/davidhenty/PythonHPCprep/blob/master/README.md"
   ]
  },
  {
   "cell_type": "markdown",
   "id": "faa6d2d8",
   "metadata": {},
   "source": [
    "<h3>Python and numpy</h3>\n",
    "\n",
    "Below is a simple test code for your numpy installation - to run it, hit \"Shift + Enter\" in the cell. If it runs correctly you should see the output:\n",
    "````\n",
    "[-1  0  1]\n",
    "````"
   ]
  },
  {
   "cell_type": "code",
   "execution_count": null,
   "id": "4673a01a",
   "metadata": {},
   "outputs": [],
   "source": [
    "import numpy as np\n",
    "a = np.array( [-1, 0, 1] )\n",
    "print(a)"
   ]
  },
  {
   "cell_type": "markdown",
   "id": "501dfb27",
   "metadata": {},
   "source": [
    "<h3>MPI</h3>\n",
    "\n",
    "Remember that you must completely stop and restart your notebook after you have installed MPI.\n",
    "\n",
    "Below is a simple test code for you mpi4py installation. You cannot actually run this file in parallel from the cell - it is just showing the contents of \"mpihello.py\" which is included in this notebook.\n",
    "\n",
    "To run it, follow the instructions below the file. If it runs correctly you should see something like:\n",
    "````\n",
    "Hello from rank 0 out of 2\n",
    "Hello from rank 1 out of 2\n",
    "````\n",
    "If you only see a **single** line of output such as:\n",
    "````\n",
    "Hello from rank 0 out of 1\n",
    "````\n",
    "then either you have accidentally executed the program directly from the notebook (to run in parallel, you **must** use `!mpiexec ...`), or there is a problem with your MPI installation."
   ]
  },
  {
   "cell_type": "code",
   "execution_count": null,
   "id": "b5c80d86",
   "metadata": {},
   "outputs": [],
   "source": [
    "# %load mpihello.py\n",
    "#!/usr/bin/env python\n",
    "\n",
    "import numpy as np\n",
    "from mpi4py import MPI\n",
    "\n",
    "comm = MPI.COMM_WORLD\n",
    "\n",
    "size = comm.Get_size()\n",
    "rank = comm.Get_rank()\n",
    "\n",
    "print(f\"Hello from rank {rank} out of {size}\")"
   ]
  },
  {
   "cell_type": "markdown",
   "id": "d6919987",
   "metadata": {},
   "source": [
    "Mac and Linux users should run the command below:"
   ]
  },
  {
   "cell_type": "code",
   "execution_count": null,
   "id": "88387cbe",
   "metadata": {},
   "outputs": [],
   "source": [
    "!mpiexec -n 2 python mpihello.py"
   ]
  },
  {
   "cell_type": "markdown",
   "id": "e93fdc55",
   "metadata": {},
   "source": [
    " Windows users should run the command below (the `timeout` option just ensures that the program does not hang forever if there is an error):"
   ]
  },
  {
   "cell_type": "code",
   "execution_count": null,
   "id": "28fff0e8",
   "metadata": {},
   "outputs": [],
   "source": [
    "!mpiexec /timeout 5 -n 2 python mpihello.py"
   ]
  }
 ],
 "metadata": {
  "kernelspec": {
   "display_name": "Python 3 (ipykernel)",
   "language": "python",
   "name": "python3"
  },
  "language_info": {
   "codemirror_mode": {
    "name": "ipython",
    "version": 3
   },
   "file_extension": ".py",
   "mimetype": "text/x-python",
   "name": "python",
   "nbconvert_exporter": "python",
   "pygments_lexer": "ipython3",
   "version": "3.9.12"
  }
 },
 "nbformat": 4,
 "nbformat_minor": 5
}
